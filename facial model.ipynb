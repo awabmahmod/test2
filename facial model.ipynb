{
 "cells": [
  {
   "cell_type": "code",
   "execution_count": 1,
   "id": "22bfbf0f-6e94-4e15-bc4e-e6afd2789c7c",
   "metadata": {},
   "outputs": [
    {
     "name": "stdout",
     "output_type": "stream",
     "text": [
      "Looking in indexes: https://pypi.org/simple, https://pypi.ngc.nvidia.com\n",
      "Requirement already satisfied: torch in c:\\users\\compumarts\\anaconda3\\envs\\myenv\\lib\\site-packages (2.5.1+cu121)\n",
      "Requirement already satisfied: torchvision in c:\\users\\compumarts\\anaconda3\\envs\\myenv\\lib\\site-packages (0.20.1+cu121)\n",
      "Collecting facenet-pytorch\n",
      "  Downloading facenet_pytorch-2.6.0-py3-none-any.whl.metadata (12 kB)\n",
      "Requirement already satisfied: filelock in c:\\users\\compumarts\\anaconda3\\envs\\myenv\\lib\\site-packages (from torch) (3.18.0)\n",
      "Requirement already satisfied: typing-extensions>=4.8.0 in c:\\users\\compumarts\\anaconda3\\envs\\myenv\\lib\\site-packages (from torch) (4.12.2)\n",
      "Requirement already satisfied: networkx in c:\\users\\compumarts\\anaconda3\\envs\\myenv\\lib\\site-packages (from torch) (3.2.1)\n",
      "Requirement already satisfied: jinja2 in c:\\users\\compumarts\\anaconda3\\envs\\myenv\\lib\\site-packages (from torch) (3.1.6)\n",
      "Requirement already satisfied: fsspec in c:\\users\\compumarts\\anaconda3\\envs\\myenv\\lib\\site-packages (from torch) (2025.3.0)\n",
      "Requirement already satisfied: sympy==1.13.1 in c:\\users\\compumarts\\anaconda3\\envs\\myenv\\lib\\site-packages (from torch) (1.13.1)\n",
      "Requirement already satisfied: mpmath<1.4,>=1.1.0 in c:\\users\\compumarts\\anaconda3\\envs\\myenv\\lib\\site-packages (from sympy==1.13.1->torch) (1.3.0)\n",
      "Requirement already satisfied: numpy in c:\\users\\compumarts\\anaconda3\\envs\\myenv\\lib\\site-packages (from torchvision) (1.26.4)\n",
      "Requirement already satisfied: pillow!=8.3.*,>=5.3.0 in c:\\users\\compumarts\\anaconda3\\envs\\myenv\\lib\\site-packages (from torchvision) (11.2.1)\n",
      "Collecting pillow!=8.3.*,>=5.3.0 (from torchvision)\n",
      "  Downloading pillow-10.2.0-cp39-cp39-win_amd64.whl.metadata (9.9 kB)\n",
      "Requirement already satisfied: requests<3.0.0,>=2.0.0 in c:\\users\\compumarts\\anaconda3\\envs\\myenv\\lib\\site-packages (from facenet-pytorch) (2.32.3)\n",
      "INFO: pip is looking at multiple versions of facenet-pytorch to determine which version is compatible with other requirements. This could take a while.\n",
      "Collecting facenet-pytorch\n",
      "  Downloading facenet_pytorch-2.5.3-py3-none-any.whl.metadata (13 kB)\n",
      "Requirement already satisfied: MarkupSafe>=2.0 in c:\\users\\compumarts\\anaconda3\\envs\\myenv\\lib\\site-packages (from jinja2->torch) (3.0.2)\n",
      "Requirement already satisfied: charset-normalizer<4,>=2 in c:\\users\\compumarts\\anaconda3\\envs\\myenv\\lib\\site-packages (from requests<3.0.0,>=2.0.0->facenet-pytorch) (3.3.2)\n",
      "Requirement already satisfied: idna<4,>=2.5 in c:\\users\\compumarts\\anaconda3\\envs\\myenv\\lib\\site-packages (from requests<3.0.0,>=2.0.0->facenet-pytorch) (3.7)\n",
      "Requirement already satisfied: urllib3<3,>=1.21.1 in c:\\users\\compumarts\\anaconda3\\envs\\myenv\\lib\\site-packages (from requests<3.0.0,>=2.0.0->facenet-pytorch) (2.3.0)\n",
      "Requirement already satisfied: certifi>=2017.4.17 in c:\\users\\compumarts\\anaconda3\\envs\\myenv\\lib\\site-packages (from requests<3.0.0,>=2.0.0->facenet-pytorch) (2025.4.26)\n",
      "Downloading facenet_pytorch-2.5.3-py3-none-any.whl (1.9 MB)\n",
      "   ---------------------------------------- 0.0/1.9 MB ? eta -:--:--\n",
      "   ---------------- ----------------------- 0.8/1.9 MB 4.8 MB/s eta 0:00:01\n",
      "   ---------------------------------------- 1.9/1.9 MB 6.5 MB/s eta 0:00:00\n",
      "Installing collected packages: facenet-pytorch\n",
      "Successfully installed facenet-pytorch-2.5.3\n",
      "Looking in indexes: https://pypi.org/simple, https://pypi.ngc.nvidia.com\n",
      "Requirement already satisfied: transformers in c:\\users\\compumarts\\anaconda3\\envs\\myenv\\lib\\site-packages (4.51.3)\n",
      "Collecting transformers\n",
      "  Downloading transformers-4.53.0-py3-none-any.whl.metadata (39 kB)\n",
      "Requirement already satisfied: filelock in c:\\users\\compumarts\\anaconda3\\envs\\myenv\\lib\\site-packages (from transformers) (3.18.0)\n",
      "Requirement already satisfied: huggingface-hub<1.0,>=0.30.0 in c:\\users\\compumarts\\anaconda3\\envs\\myenv\\lib\\site-packages (from transformers) (0.31.1)\n",
      "Requirement already satisfied: numpy>=1.17 in c:\\users\\compumarts\\anaconda3\\envs\\myenv\\lib\\site-packages (from transformers) (1.26.4)\n",
      "Requirement already satisfied: packaging>=20.0 in c:\\users\\compumarts\\anaconda3\\envs\\myenv\\lib\\site-packages (from transformers) (24.2)\n",
      "Requirement already satisfied: pyyaml>=5.1 in c:\\users\\compumarts\\anaconda3\\envs\\myenv\\lib\\site-packages (from transformers) (6.0.2)\n",
      "Requirement already satisfied: regex!=2019.12.17 in c:\\users\\compumarts\\anaconda3\\envs\\myenv\\lib\\site-packages (from transformers) (2024.11.6)\n",
      "Requirement already satisfied: requests in c:\\users\\compumarts\\anaconda3\\envs\\myenv\\lib\\site-packages (from transformers) (2.32.3)\n",
      "Requirement already satisfied: tokenizers<0.22,>=0.21 in c:\\users\\compumarts\\anaconda3\\envs\\myenv\\lib\\site-packages (from transformers) (0.21.1)\n",
      "Requirement already satisfied: safetensors>=0.4.3 in c:\\users\\compumarts\\anaconda3\\envs\\myenv\\lib\\site-packages (from transformers) (0.5.3)\n",
      "Requirement already satisfied: tqdm>=4.27 in c:\\users\\compumarts\\anaconda3\\envs\\myenv\\lib\\site-packages (from transformers) (4.67.1)\n",
      "Requirement already satisfied: fsspec>=2023.5.0 in c:\\users\\compumarts\\anaconda3\\envs\\myenv\\lib\\site-packages (from huggingface-hub<1.0,>=0.30.0->transformers) (2025.3.0)\n",
      "Requirement already satisfied: typing-extensions>=3.7.4.3 in c:\\users\\compumarts\\anaconda3\\envs\\myenv\\lib\\site-packages (from huggingface-hub<1.0,>=0.30.0->transformers) (4.12.2)\n",
      "Requirement already satisfied: colorama in c:\\users\\compumarts\\anaconda3\\envs\\myenv\\lib\\site-packages (from tqdm>=4.27->transformers) (0.4.6)\n",
      "Requirement already satisfied: charset-normalizer<4,>=2 in c:\\users\\compumarts\\anaconda3\\envs\\myenv\\lib\\site-packages (from requests->transformers) (3.3.2)\n",
      "Requirement already satisfied: idna<4,>=2.5 in c:\\users\\compumarts\\anaconda3\\envs\\myenv\\lib\\site-packages (from requests->transformers) (3.7)\n",
      "Requirement already satisfied: urllib3<3,>=1.21.1 in c:\\users\\compumarts\\anaconda3\\envs\\myenv\\lib\\site-packages (from requests->transformers) (2.3.0)\n",
      "Requirement already satisfied: certifi>=2017.4.17 in c:\\users\\compumarts\\anaconda3\\envs\\myenv\\lib\\site-packages (from requests->transformers) (2025.4.26)\n",
      "Downloading transformers-4.53.0-py3-none-any.whl (10.8 MB)\n",
      "   ---------------------------------------- 0.0/10.8 MB ? eta -:--:--\n",
      "   - -------------------------------------- 0.5/10.8 MB 3.3 MB/s eta 0:00:04\n",
      "   ---------- ----------------------------- 2.9/10.8 MB 8.8 MB/s eta 0:00:01\n",
      "   ---------- ----------------------------- 2.9/10.8 MB 8.8 MB/s eta 0:00:01\n",
      "   ------------- -------------------------- 3.7/10.8 MB 5.6 MB/s eta 0:00:02\n",
      "   ---------------- ----------------------- 4.5/10.8 MB 4.6 MB/s eta 0:00:02\n",
      "   ---------------- ----------------------- 4.5/10.8 MB 4.6 MB/s eta 0:00:02\n",
      "   ------------------- -------------------- 5.2/10.8 MB 4.1 MB/s eta 0:00:02\n",
      "   --------------------- ------------------ 5.8/10.8 MB 3.6 MB/s eta 0:00:02\n",
      "   --------------------- ------------------ 5.8/10.8 MB 3.6 MB/s eta 0:00:02\n",
      "   ----------------------- ---------------- 6.3/10.8 MB 3.4 MB/s eta 0:00:02\n",
      "   -------------------------- ------------- 7.1/10.8 MB 3.3 MB/s eta 0:00:02\n",
      "   ----------------------------- ---------- 7.9/10.8 MB 3.2 MB/s eta 0:00:01\n",
      "   ----------------------------- ---------- 7.9/10.8 MB 3.2 MB/s eta 0:00:01\n",
      "   ------------------------------- -------- 8.4/10.8 MB 3.0 MB/s eta 0:00:01\n",
      "   -------------------------------- ------- 8.9/10.8 MB 2.9 MB/s eta 0:00:01\n",
      "   --------------------------------- ------ 9.2/10.8 MB 2.8 MB/s eta 0:00:01\n",
      "   ----------------------------------- ---- 9.7/10.8 MB 2.9 MB/s eta 0:00:01\n",
      "   -------------------------------------- - 10.5/10.8 MB 2.9 MB/s eta 0:00:01\n",
      "   ---------------------------------------- 10.8/10.8 MB 2.8 MB/s eta 0:00:00\n",
      "Installing collected packages: transformers\n",
      "  Attempting uninstall: transformers\n",
      "    Found existing installation: transformers 4.51.3\n",
      "    Uninstalling transformers-4.51.3:\n",
      "      Successfully uninstalled transformers-4.51.3\n",
      "Successfully installed transformers-4.53.0\n"
     ]
    }
   ],
   "source": [
    "!pip install torch torchvision facenet-pytorch\n",
    "!pip install -U transformers\n"
   ]
  },
  {
   "cell_type": "code",
   "execution_count": 7,
   "id": "21c3ffed-a3d8-4ad8-ad55-f63774743fe1",
   "metadata": {},
   "outputs": [
    {
     "name": "stdout",
     "output_type": "stream",
     "text": [
      "Looking in indexes: https://pypi.org/simple, https://pypi.ngc.nvidia.com\n",
      "Requirement already satisfied: torch in c:\\users\\compumarts\\anaconda3\\envs\\myenv\\lib\\site-packages (2.5.1+cu121)\n",
      "Requirement already satisfied: torchvision in c:\\users\\compumarts\\anaconda3\\envs\\myenv\\lib\\site-packages (0.20.1+cu121)\n",
      "Requirement already satisfied: facenet-pytorch in c:\\users\\compumarts\\anaconda3\\envs\\myenv\\lib\\site-packages (2.5.3)\n",
      "Requirement already satisfied: pandas in c:\\users\\compumarts\\anaconda3\\envs\\myenv\\lib\\site-packages (2.2.3)\n",
      "Requirement already satisfied: filelock in c:\\users\\compumarts\\anaconda3\\envs\\myenv\\lib\\site-packages (from torch) (3.18.0)\n",
      "Requirement already satisfied: typing-extensions>=4.8.0 in c:\\users\\compumarts\\anaconda3\\envs\\myenv\\lib\\site-packages (from torch) (4.12.2)\n",
      "Requirement already satisfied: networkx in c:\\users\\compumarts\\anaconda3\\envs\\myenv\\lib\\site-packages (from torch) (3.2.1)\n",
      "Requirement already satisfied: jinja2 in c:\\users\\compumarts\\anaconda3\\envs\\myenv\\lib\\site-packages (from torch) (3.1.6)\n",
      "Requirement already satisfied: fsspec in c:\\users\\compumarts\\anaconda3\\envs\\myenv\\lib\\site-packages (from torch) (2025.3.0)\n",
      "Requirement already satisfied: sympy==1.13.1 in c:\\users\\compumarts\\anaconda3\\envs\\myenv\\lib\\site-packages (from torch) (1.13.1)\n",
      "Requirement already satisfied: mpmath<1.4,>=1.1.0 in c:\\users\\compumarts\\anaconda3\\envs\\myenv\\lib\\site-packages (from sympy==1.13.1->torch) (1.3.0)\n",
      "Requirement already satisfied: numpy in c:\\users\\compumarts\\anaconda3\\envs\\myenv\\lib\\site-packages (from torchvision) (1.26.4)\n",
      "Requirement already satisfied: pillow!=8.3.*,>=5.3.0 in c:\\users\\compumarts\\anaconda3\\envs\\myenv\\lib\\site-packages (from torchvision) (11.2.1)\n",
      "Requirement already satisfied: requests in c:\\users\\compumarts\\anaconda3\\envs\\myenv\\lib\\site-packages (from facenet-pytorch) (2.32.3)\n",
      "Requirement already satisfied: python-dateutil>=2.8.2 in c:\\users\\compumarts\\anaconda3\\envs\\myenv\\lib\\site-packages (from pandas) (2.9.0.post0)\n",
      "Requirement already satisfied: pytz>=2020.1 in c:\\users\\compumarts\\anaconda3\\envs\\myenv\\lib\\site-packages (from pandas) (2025.2)\n",
      "Requirement already satisfied: tzdata>=2022.7 in c:\\users\\compumarts\\anaconda3\\envs\\myenv\\lib\\site-packages (from pandas) (2025.2)\n",
      "Requirement already satisfied: six>=1.5 in c:\\users\\compumarts\\anaconda3\\envs\\myenv\\lib\\site-packages (from python-dateutil>=2.8.2->pandas) (1.17.0)\n",
      "Requirement already satisfied: MarkupSafe>=2.0 in c:\\users\\compumarts\\anaconda3\\envs\\myenv\\lib\\site-packages (from jinja2->torch) (3.0.2)\n",
      "Requirement already satisfied: charset-normalizer<4,>=2 in c:\\users\\compumarts\\anaconda3\\envs\\myenv\\lib\\site-packages (from requests->facenet-pytorch) (3.3.2)\n",
      "Requirement already satisfied: idna<4,>=2.5 in c:\\users\\compumarts\\anaconda3\\envs\\myenv\\lib\\site-packages (from requests->facenet-pytorch) (3.7)\n",
      "Requirement already satisfied: urllib3<3,>=1.21.1 in c:\\users\\compumarts\\anaconda3\\envs\\myenv\\lib\\site-packages (from requests->facenet-pytorch) (2.3.0)\n",
      "Requirement already satisfied: certifi>=2017.4.17 in c:\\users\\compumarts\\anaconda3\\envs\\myenv\\lib\\site-packages (from requests->facenet-pytorch) (2025.4.26)\n"
     ]
    }
   ],
   "source": [
    "# Install dependencies\n",
    "!pip install torch torchvision facenet-pytorch pandas\n",
    "\n",
    "import torch, os, numpy as np, pandas as pd\n",
    "from facenet_pytorch import MTCNN, InceptionResnetV1\n",
    "from PIL import Image\n"
   ]
  },
  {
   "cell_type": "code",
   "execution_count": 9,
   "id": "25e9a849-4776-4099-9007-a75cd0c9bb1a",
   "metadata": {},
   "outputs": [
    {
     "name": "stderr",
     "output_type": "stream",
     "text": [
      "C:\\Users\\COMPUMARTS\\anaconda3\\envs\\myenv\\lib\\site-packages\\facenet_pytorch\\models\\mtcnn.py:34: FutureWarning: You are using `torch.load` with `weights_only=False` (the current default value), which uses the default pickle module implicitly. It is possible to construct malicious pickle data which will execute arbitrary code during unpickling (See https://github.com/pytorch/pytorch/blob/main/SECURITY.md#untrusted-models for more details). In a future release, the default value for `weights_only` will be flipped to `True`. This limits the functions that could be executed during unpickling. Arbitrary objects will no longer be allowed to be loaded via this mode unless they are explicitly allowlisted by the user via `torch.serialization.add_safe_globals`. We recommend you start setting `weights_only=True` for any use case where you don't have full control of the loaded file. Please open an issue on GitHub for any issues related to this experimental feature.\n",
      "  state_dict = torch.load(state_dict_path)\n",
      "C:\\Users\\COMPUMARTS\\anaconda3\\envs\\myenv\\lib\\site-packages\\facenet_pytorch\\models\\mtcnn.py:79: FutureWarning: You are using `torch.load` with `weights_only=False` (the current default value), which uses the default pickle module implicitly. It is possible to construct malicious pickle data which will execute arbitrary code during unpickling (See https://github.com/pytorch/pytorch/blob/main/SECURITY.md#untrusted-models for more details). In a future release, the default value for `weights_only` will be flipped to `True`. This limits the functions that could be executed during unpickling. Arbitrary objects will no longer be allowed to be loaded via this mode unless they are explicitly allowlisted by the user via `torch.serialization.add_safe_globals`. We recommend you start setting `weights_only=True` for any use case where you don't have full control of the loaded file. Please open an issue on GitHub for any issues related to this experimental feature.\n",
      "  state_dict = torch.load(state_dict_path)\n",
      "C:\\Users\\COMPUMARTS\\anaconda3\\envs\\myenv\\lib\\site-packages\\facenet_pytorch\\models\\mtcnn.py:132: FutureWarning: You are using `torch.load` with `weights_only=False` (the current default value), which uses the default pickle module implicitly. It is possible to construct malicious pickle data which will execute arbitrary code during unpickling (See https://github.com/pytorch/pytorch/blob/main/SECURITY.md#untrusted-models for more details). In a future release, the default value for `weights_only` will be flipped to `True`. This limits the functions that could be executed during unpickling. Arbitrary objects will no longer be allowed to be loaded via this mode unless they are explicitly allowlisted by the user via `torch.serialization.add_safe_globals`. We recommend you start setting `weights_only=True` for any use case where you don't have full control of the loaded file. Please open an issue on GitHub for any issues related to this experimental feature.\n",
      "  state_dict = torch.load(state_dict_path)\n",
      "100%|███████████████████████████████████████████████████████████████████████████████| 107M/107M [00:40<00:00, 2.75MB/s]\n",
      "C:\\Users\\COMPUMARTS\\anaconda3\\envs\\myenv\\lib\\site-packages\\facenet_pytorch\\models\\inception_resnet_v1.py:329: FutureWarning: You are using `torch.load` with `weights_only=False` (the current default value), which uses the default pickle module implicitly. It is possible to construct malicious pickle data which will execute arbitrary code during unpickling (See https://github.com/pytorch/pytorch/blob/main/SECURITY.md#untrusted-models for more details). In a future release, the default value for `weights_only` will be flipped to `True`. This limits the functions that could be executed during unpickling. Arbitrary objects will no longer be allowed to be loaded via this mode unless they are explicitly allowlisted by the user via `torch.serialization.add_safe_globals`. We recommend you start setting `weights_only=True` for any use case where you don't have full control of the loaded file. Please open an issue on GitHub for any issues related to this experimental feature.\n",
      "  state_dict = torch.load(cached_file)\n"
     ]
    }
   ],
   "source": [
    "device = 'cuda' if torch.cuda.is_available() else 'cpu'\n",
    "mtcnn = MTCNN(image_size=160, margin=14, keep_all=False, device=device)\n",
    "resnet = InceptionResnetV1(pretrained='vggface2').eval().to(device)\n"
   ]
  },
  {
   "cell_type": "code",
   "execution_count": 15,
   "id": "b2258208-caa5-43d1-9175-addd3abba7a5",
   "metadata": {},
   "outputs": [],
   "source": [
    "CSV_PATH = r\"C:\\Users\\COMPUMARTS\\Downloads\\v3\\employees.csv\"\n",
    "\n",
    "def extract_embedding(img_path):\n",
    "    img = Image.open(img_path).convert(\"RGB\")  # Force RGB, drops alpha\n",
    "    face = mtcnn(img)\n",
    "    if face is None:\n",
    "        raise ValueError(\"No face detected.\")\n",
    "    with torch.no_grad():\n",
    "        embedding = resnet(face.unsqueeze(0).to(device))\n",
    "    return embedding.squeeze(0).cpu().numpy()\n",
    "\n",
    "\n",
    "def save_to_csv(name, embedding, csv=CSV_PATH):\n",
    "    df_new = pd.DataFrame([{\n",
    "      'name': name,\n",
    "      'face_encoding': embedding.tolist()\n",
    "    }])\n",
    "    if os.path.exists(csv):\n",
    "        df = pd.read_csv(csv, converters={'face_encoding': eval})\n",
    "        df = pd.concat([df, df_new], ignore_index=True)\n",
    "    else:\n",
    "        df = df_new\n",
    "    df.to_csv(csv, index=False)\n"
   ]
  },
  {
   "cell_type": "code",
   "execution_count": 19,
   "id": "cb2a3620-1136-436f-b310-2efde91d9f73",
   "metadata": {},
   "outputs": [],
   "source": [
    "e = extract_embedding(r\"C:\\Users\\COMPUMARTS\\Downloads\\Screenshot 2025-03-23 034513.png\")\n",
    "save_to_csv(\"Alice\", e)\n"
   ]
  },
  {
   "cell_type": "code",
   "execution_count": 21,
   "id": "b337a7b4-1c43-48be-b95d-f3d9232bdd51",
   "metadata": {},
   "outputs": [],
   "source": [
    "def identify_person(embedding, csv=CSV_PATH, threshold=0.8):\n",
    "    df = pd.read_csv(csv, converters={'face_encoding': eval})\n",
    "    best_name, best_dist = \"Unknown\", float('inf')\n",
    "    for _, row in df.iterrows():\n",
    "        stored = np.array(row['face_encoding'])\n",
    "        dist = np.linalg.norm(embedding - stored)\n",
    "        if dist < best_dist:\n",
    "            best_dist, best_name = dist, row['name']\n",
    "    return best_name if best_dist < threshold else \"Unknown\"\n"
   ]
  },
  {
   "cell_type": "code",
   "execution_count": 27,
   "id": "187b3554-b9b9-4106-ad5b-767fb5204f1a",
   "metadata": {},
   "outputs": [
    {
     "name": "stdout",
     "output_type": "stream",
     "text": [
      "✅ Identified as: Unknown\n"
     ]
    }
   ],
   "source": [
    "img_path = r\"C:\\Users\\COMPUMARTS\\Downloads\\WhatsApp Image 2023-08-18 at 12.41.57 AM.jpeg\"\n",
    "try:\n",
    "    embedding = extract_embedding(img_path)\n",
    "    person = identify_person(embedding)\n",
    "    print(f\"✅ Identified as: {person}\")\n",
    "except ValueError as e:\n",
    "    print(f\"⚠️ {e}\")"
   ]
  },
  {
   "cell_type": "code",
   "execution_count": 29,
   "id": "41a2c34b-5832-4f4c-b8cb-dd4b8196db08",
   "metadata": {},
   "outputs": [
    {
     "name": "stderr",
     "output_type": "stream",
     "text": [
      "C:\\Users\\COMPUMARTS\\anaconda3\\envs\\myenv\\lib\\site-packages\\facenet_pytorch\\models\\mtcnn.py:34: FutureWarning: You are using `torch.load` with `weights_only=False` (the current default value), which uses the default pickle module implicitly. It is possible to construct malicious pickle data which will execute arbitrary code during unpickling (See https://github.com/pytorch/pytorch/blob/main/SECURITY.md#untrusted-models for more details). In a future release, the default value for `weights_only` will be flipped to `True`. This limits the functions that could be executed during unpickling. Arbitrary objects will no longer be allowed to be loaded via this mode unless they are explicitly allowlisted by the user via `torch.serialization.add_safe_globals`. We recommend you start setting `weights_only=True` for any use case where you don't have full control of the loaded file. Please open an issue on GitHub for any issues related to this experimental feature.\n",
      "  state_dict = torch.load(state_dict_path)\n",
      "C:\\Users\\COMPUMARTS\\anaconda3\\envs\\myenv\\lib\\site-packages\\facenet_pytorch\\models\\mtcnn.py:79: FutureWarning: You are using `torch.load` with `weights_only=False` (the current default value), which uses the default pickle module implicitly. It is possible to construct malicious pickle data which will execute arbitrary code during unpickling (See https://github.com/pytorch/pytorch/blob/main/SECURITY.md#untrusted-models for more details). In a future release, the default value for `weights_only` will be flipped to `True`. This limits the functions that could be executed during unpickling. Arbitrary objects will no longer be allowed to be loaded via this mode unless they are explicitly allowlisted by the user via `torch.serialization.add_safe_globals`. We recommend you start setting `weights_only=True` for any use case where you don't have full control of the loaded file. Please open an issue on GitHub for any issues related to this experimental feature.\n",
      "  state_dict = torch.load(state_dict_path)\n",
      "C:\\Users\\COMPUMARTS\\anaconda3\\envs\\myenv\\lib\\site-packages\\facenet_pytorch\\models\\mtcnn.py:132: FutureWarning: You are using `torch.load` with `weights_only=False` (the current default value), which uses the default pickle module implicitly. It is possible to construct malicious pickle data which will execute arbitrary code during unpickling (See https://github.com/pytorch/pytorch/blob/main/SECURITY.md#untrusted-models for more details). In a future release, the default value for `weights_only` will be flipped to `True`. This limits the functions that could be executed during unpickling. Arbitrary objects will no longer be allowed to be loaded via this mode unless they are explicitly allowlisted by the user via `torch.serialization.add_safe_globals`. We recommend you start setting `weights_only=True` for any use case where you don't have full control of the loaded file. Please open an issue on GitHub for any issues related to this experimental feature.\n",
      "  state_dict = torch.load(state_dict_path)\n",
      "C:\\Users\\COMPUMARTS\\anaconda3\\envs\\myenv\\lib\\site-packages\\facenet_pytorch\\models\\inception_resnet_v1.py:329: FutureWarning: You are using `torch.load` with `weights_only=False` (the current default value), which uses the default pickle module implicitly. It is possible to construct malicious pickle data which will execute arbitrary code during unpickling (See https://github.com/pytorch/pytorch/blob/main/SECURITY.md#untrusted-models for more details). In a future release, the default value for `weights_only` will be flipped to `True`. This limits the functions that could be executed during unpickling. Arbitrary objects will no longer be allowed to be loaded via this mode unless they are explicitly allowlisted by the user via `torch.serialization.add_safe_globals`. We recommend you start setting `weights_only=True` for any use case where you don't have full control of the loaded file. Please open an issue on GitHub for any issues related to this experimental feature.\n",
      "  state_dict = torch.load(cached_file)\n"
     ]
    }
   ],
   "source": [
    "mtcnn_cpu = MTCNN(image_size=160, margin=14, keep_all=False, device='cpu')\n",
    "resnet_cpu = InceptionResnetV1(pretrained='vggface2').eval()\n",
    "torch.save(mtcnn_cpu, r\"C:\\Users\\COMPUMARTS\\Downloads\\v3\\mtcnn.pth\")\n",
    "torch.save(resnet_cpu, r\"C:\\Users\\COMPUMARTS\\Downloads\\v3\\resnet.pth\")\n"
   ]
  }
 ],
 "metadata": {
  "kernelspec": {
   "display_name": "Python [conda env:myenv]",
   "language": "python",
   "name": "conda-env-myenv-py"
  },
  "language_info": {
   "codemirror_mode": {
    "name": "ipython",
    "version": 3
   },
   "file_extension": ".py",
   "mimetype": "text/x-python",
   "name": "python",
   "nbconvert_exporter": "python",
   "pygments_lexer": "ipython3",
   "version": "3.9.21"
  }
 },
 "nbformat": 4,
 "nbformat_minor": 5
}
